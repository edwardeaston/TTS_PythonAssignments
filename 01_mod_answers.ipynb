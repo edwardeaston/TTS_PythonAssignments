{
 "cells": [
  {
   "cell_type": "markdown",
   "metadata": {},
   "source": [
    "# Module 1: Practice Exercises"
   ]
  },
  {
   "cell_type": "markdown",
   "metadata": {},
   "source": [
    "### 1. Accept the user's first and last name and print them in reverse order with a space between them"
   ]
  },
  {
   "cell_type": "code",
   "execution_count": 1,
   "metadata": {},
   "outputs": [
    {
     "name": "stdout",
     "output_type": "stream",
     "text": [
      "Enter your first name: Eddie\n",
      "Enter your last name: Easton\n",
      "Easton Eddie\n"
     ]
    }
   ],
   "source": [
    "# Accept the user's first and last name\n",
    "first_name = input(\"Enter your first name: \")\n",
    "last_name = input(\"Enter your last name: \")\n",
    "\n",
    "# Print the names in reverse order with a space between them\n",
    "print(last_name + \" \" + first_name)"
   ]
  },
  {
   "cell_type": "markdown",
   "metadata": {},
   "source": [
    "### 2. Accept an integer (n) and compute the value of n+nn+nnn"
   ]
  },
  {
   "cell_type": "code",
   "execution_count": 2,
   "metadata": {},
   "outputs": [
    {
     "name": "stdout",
     "output_type": "stream",
     "text": [
      "Input an integer: 5\n",
      "Result: 615\n"
     ]
    }
   ],
   "source": [
    "# Accept an integer from the user\n",
    "n = int(input(\"Input an integer: \"))\n",
    "\n",
    "# Compute the value of n+nn+nnn\n",
    "nn = int(str(n) + str(n))  # Concatenate n with itself to form nn\n",
    "nnn = int(str(n) + str(n) + str(n))  # Concatenate n with itself twice to form nnn\n",
    "result = n + nn + nnn\n",
    "\n",
    "# Print the computed value\n",
    "print(\"Result:\", result)"
   ]
  },
  {
   "cell_type": "markdown",
   "metadata": {},
   "source": [
    "### 3. Ask the user \"What country are you from?\" then print the following statement: \"I have heard that [input] is a beautiful country!\""
   ]
  },
  {
   "cell_type": "code",
   "execution_count": 3,
   "metadata": {},
   "outputs": [
    {
     "name": "stdout",
     "output_type": "stream",
     "text": [
      "What country are you from? United States\n",
      "I have heard that United States is a beautiful country!\n"
     ]
    }
   ],
   "source": [
    "# Ask the user \"What country are you from?\"\n",
    "country = input(\"What country are you from? \")\n",
    "\n",
    "# Print the statement\n",
    "print(\"I have heard that\", country, \"is a beautiful country!\")"
   ]
  },
  {
   "cell_type": "markdown",
   "metadata": {},
   "source": [
    "### 4. What is the output of the following Python code?"
   ]
  },
  {
   "cell_type": "code",
   "execution_count": 20,
   "metadata": {},
   "outputs": [],
   "source": [
    "x = 10\n",
    "y = 50\n",
    "if (x ** 2 > 100 and y < 100):\n",
    "    print(x, y)"
   ]
  },
  {
   "cell_type": "markdown",
   "metadata": {},
   "source": [
    "Answer: Nothing, because x does not meet the requirements of the if statement"
   ]
  },
  {
   "cell_type": "markdown",
   "metadata": {},
   "source": [
    "### 5. What is the output of the following addition (+) operator, and why does this code chunk execute this way?"
   ]
  },
  {
   "cell_type": "code",
   "execution_count": 21,
   "metadata": {},
   "outputs": [
    {
     "name": "stdout",
     "output_type": "stream",
     "text": [
      "[10, 20, 30, 40]\n",
      "[10, 20, 30, 40]\n"
     ]
    }
   ],
   "source": [
    "a = [10, 20]\n",
    "b = a\n",
    "b += [30, 40]\n",
    "print(a)\n",
    "print(b)"
   ]
  },
  {
   "cell_type": "markdown",
   "metadata": {},
   "source": [
    "Answer: The list a is initially defined as [10, 20]. Then, the variable b is assigned the reference to the same list a using the assignment operator =. This means that b and a refer to the same underlying list object in memory. <br>\n",
    "<br>\n",
    "When the += operator is used with b, it performs an in-place addition operation on the list b. The elements [30, 40] are appended to the existing list [10, 20], resulting in [10, 20, 30, 40]. Since b and a are references to the same list, the modification made to b affects the underlying list that a points to as well. <br>\n",
    "<br>\n",
    "Therefore, when print(a) is called, it prints [10, 20, 30, 40], which reflects the modified list. Similarly, when print(b) is called, it also prints [10, 20, 30, 40] because b and a refer to the same list. <br>\n",
    "<br>\n",
    "It's important to note that this behavior occurs because lists are mutable objects in Python. If a and b were assigned to immutable objects, such as integers or strings, modifying b would create a new object, and a would remain unchanged."
   ]
  },
  {
   "cell_type": "markdown",
   "metadata": {},
   "source": [
    "### 6. What is the output of the following code and what arithmetic operators is being used here?"
   ]
  },
  {
   "cell_type": "code",
   "execution_count": 5,
   "metadata": {},
   "outputs": [
    {
     "name": "stdout",
     "output_type": "stream",
     "text": [
      "2\n"
     ]
    }
   ],
   "source": [
    "print(2 % 6)"
   ]
  },
  {
   "cell_type": "markdown",
   "metadata": {},
   "source": [
    "Answer: The arithmetic operator being used here is the modulus operator %. <br>\n",
    "<br>\n",
    "The modulus operator calculates the remainder when one number (the dividend) is divided by another number (the divisor)."
   ]
  },
  {
   "cell_type": "markdown",
   "metadata": {},
   "source": [
    "### 7. What is the output of the following code and what arithmetic operators are used here?"
   ]
  },
  {
   "cell_type": "code",
   "execution_count": 23,
   "metadata": {},
   "outputs": [
    {
     "name": "stdout",
     "output_type": "stream",
     "text": [
      "216\n"
     ]
    }
   ],
   "source": [
    "print(2 * 3 ** 3 * 4)"
   ]
  },
  {
   "cell_type": "markdown",
   "metadata": {},
   "source": [
    "Answer: The arithmetic operators being used in this code are the multiplication operator * and the exponentiation operator **"
   ]
  },
  {
   "cell_type": "markdown",
   "metadata": {},
   "source": [
    "### 8. What is a text editor?"
   ]
  },
  {
   "cell_type": "markdown",
   "metadata": {},
   "source": [
    "Answer: A text editor is a software application designed for creating, editing, and manipulating plain text files. <br> It provides a simple and efficient interface for users to write and modify text-based content. <br> Text editors are widely used for various purposes, including programming, writing documents, taking notes, and editing configuration files."
   ]
  },
  {
   "cell_type": "markdown",
   "metadata": {},
   "source": [
    "### 9. What is python?"
   ]
  },
  {
   "cell_type": "markdown",
   "metadata": {},
   "source": [
    "Answer: Python is a high-level, interpreted programming language known for its simplicity, readability, and versatility. <br> It was created by Guido van Rossum and initially released in 1991. Python has gained widespread popularity among developers, making it one of the most <br> widely used programming languages in various domains, including web development, data analysis, machine learning, scientific computing, and automation."
   ]
  },
  {
   "cell_type": "markdown",
   "metadata": {},
   "source": [
    "### 10. What is jupyter notebook, what type of python environment is it, and what alternatives are there to jupyter notebook?"
   ]
  },
  {
   "cell_type": "markdown",
   "metadata": {},
   "source": [
    "Answer: Jupyter Notebook is an open-source web application that allows you to create and share documents containing live code, equations, visualizations, and narrative text. <br> It provides an interactive computing environment that supports various programming languages, with Python being the most commonly used language. <br>\n",
    "<br>\n",
    "Jupyter Notebook is a web-based environment that enables you to create notebooks combining code, markdown, and rich media elements. <br> It operates on a client-server architecture, where the Jupyter server runs on your local machine, and you access it through a web browser. <br> Notebooks are organized into cells, which can contain code, text, or visual elements. You can execute code cells individually, facilitating iterative development and exploration of data.\n",
    "<br>\n",
    "<br>\n",
    "Some alternatives to Jupyter Notebook are: <br>\n",
    "<br>\n",
    "Jupyter Lab <br>\n",
    "Google Colab <br>\n",
    "Spyder <br>\n",
    "PyCharm <br>\n",
    "Visual Studio Code(VS Code)"
   ]
  },
  {
   "cell_type": "markdown",
   "metadata": {},
   "source": []
  }
 ],
 "metadata": {
  "kernelspec": {
   "display_name": "Python 3 (ipykernel)",
   "language": "python",
   "name": "python3"
  },
  "language_info": {
   "codemirror_mode": {
    "name": "ipython",
    "version": 3
   },
   "file_extension": ".py",
   "mimetype": "text/x-python",
   "name": "python",
   "nbconvert_exporter": "python",
   "pygments_lexer": "ipython3",
   "version": "3.10.9"
  }
 },
 "nbformat": 4,
 "nbformat_minor": 4
}
