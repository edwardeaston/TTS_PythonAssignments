{
 "cells": [
  {
   "cell_type": "markdown",
   "metadata": {},
   "source": [
    "# Module 2: Data Structure Exercises"
   ]
  },
  {
   "cell_type": "markdown",
   "metadata": {},
   "source": [
    "### Exercise 1\n",
    "In mathematics, the quadratic equation `ax^2+bx+c=0` can be solved with the formula `x=(-b±√((b^2-4ac)/2a))`.\n",
    "\n",
    "Write a function `solve_quadratic`, that returns both solutions of a generic quadratic as a pair (2-tuple) when the coefficients are given as parameters. It should work like this:<br>\n",
    "\n",
    "python<br>\n",
    "print(solve_quadratic(1,-3,2))<br>\n",
    "Output: (2.0,1.0)<br>\n",
    "print(solve_quadratic(1,2,1))<br>\n",
    "Output: (-1.0,-1.0)<br>\n",
    "<br>\n",
    "You may want to use the math.sqrt function from the math module in your solution. Test that your function works in the main function!"
   ]
  },
  {
   "cell_type": "code",
   "execution_count": 2,
   "metadata": {},
   "outputs": [
    {
     "name": "stdout",
     "output_type": "stream",
     "text": [
      "(2.0, 1.0)\n",
      "(-1.0, -1.0)\n"
     ]
    }
   ],
   "source": []
  },
  {
   "cell_type": "markdown",
   "metadata": {},
   "source": [
    "### Exercise 2\n",
    "Get a space-separated list of integers from the user, create a tuple of those integers. Then compute and print the result of `hash(tuple)`.\n",
    "\n",
    "[Documentation: hash():](https://docs.python.org/3/library/functions.html#hash)"
   ]
  },
  {
   "cell_type": "code",
   "execution_count": 15,
   "metadata": {},
   "outputs": [
    {
     "name": "stdout",
     "output_type": "stream",
     "text": [
      "Please enter a list of space separated integers:4 7 1 0 7 4\n",
      "5265568865842928323\n"
     ]
    }
   ],
   "source": []
  },
  {
   "cell_type": "markdown",
   "metadata": {},
   "source": [
    "### Exercise 3 \n",
    "Take the following two lists. Create a third list by picking a odd-index elements from the first list and even-index elements from the second."
   ]
  },
  {
   "cell_type": "code",
   "execution_count": 26,
   "metadata": {},
   "outputs": [
    {
     "name": "stdout",
     "output_type": "stream",
     "text": [
      "[4, 6, 12, 12, 18, 20, 28]\n"
     ]
    }
   ],
   "source": [
    "# Define lists\n",
    "list1 = [3, 6, 9, 12, 15, 18, 21]\n",
    "list2 = [4, 8, 12, 16, 20, 24, 28]"
   ]
  },
  {
   "cell_type": "markdown",
   "metadata": {},
   "source": [
    "### Exercise 4\n",
    "Take the following list. Slice it into three equal chunks and reverse each list."
   ]
  },
  {
   "cell_type": "code",
   "execution_count": 6,
   "metadata": {},
   "outputs": [
    {
     "name": "stdout",
     "output_type": "stream",
     "text": [
      "[8, 45, 11] [12, 14, 23] [89, 45, 78]\n"
     ]
    }
   ],
   "source": [
    "sampleList = [11, 45, 8, 23, 14, 12, 78, 45, 89]"
   ]
  },
  {
   "cell_type": "markdown",
   "metadata": {},
   "source": [
    "### Exercise 5\n",
    "Iterate through a given list and check if a given element already exists in a dictionary as a key’s value. If not, delete it from the list."
   ]
  },
  {
   "cell_type": "code",
   "execution_count": 8,
   "metadata": {},
   "outputs": [],
   "source": [
    "rollNumber = [47, 64, 69, 37, 76, 83, 95, 97]\n",
    "sampleDict ={'Zach':47, 'Emma':69, 'Kelly':76, 'Jason':97}"
   ]
  },
  {
   "cell_type": "code",
   "execution_count": 10,
   "metadata": {},
   "outputs": [
    {
     "name": "stdout",
     "output_type": "stream",
     "text": [
      "[47, 69, 76, 97]\n"
     ]
    }
   ],
   "source": []
  }
 ],
 "metadata": {
  "kernelspec": {
   "display_name": "Python 3 (ipykernel)",
   "language": "python",
   "name": "python3"
  },
  "language_info": {
   "codemirror_mode": {
    "name": "ipython",
    "version": 3
   },
   "file_extension": ".py",
   "mimetype": "text/x-python",
   "name": "python",
   "nbconvert_exporter": "python",
   "pygments_lexer": "ipython3",
   "version": "3.10.9"
  }
 },
 "nbformat": 4,
 "nbformat_minor": 4
}
