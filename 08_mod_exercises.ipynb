{
 "cells": [
  {
   "cell_type": "markdown",
   "metadata": {},
   "source": [
    "# Module 8: Inheritance Exercises"
   ]
  },
  {
   "cell_type": "markdown",
   "metadata": {},
   "source": [
    "## Exercise 1. "
   ]
  },
  {
   "cell_type": "markdown",
   "metadata": {},
   "source": [
    "You are given two classes, Person and Student, where Person is the base class and Student is the derived class. Completed code for Person and a declaration for Student are provided for you in the editor. Observe that Student inherits all the properties of Person.\n",
    "\n",
    "Complete the Student class by writing the following:\n",
    "\n",
    "A Student class constructor, which has 4 parameters:\n",
    "\n",
    "- A string: firstName\n",
    "- A string: lastName\n",
    "- An integer: id \n",
    "- An integer array (or vector) of test scores: scores\n",
    "\n",
    "A char **calculate()** method that calculates a Student object's average and returns the grade character representative of their calculated average:\n",
    "```\n",
    "A | 90-100\n",
    "B | 80-89\n",
    "C | 70-79\n",
    "D | 60-69\n",
    "F | <60\n",
    "```"
   ]
  },
  {
   "cell_type": "code",
   "execution_count": null,
   "metadata": {},
   "outputs": [],
   "source": [
    "# define the Person class\n",
    "class Person:\n",
    "    def __init__(self, firstName, lastName):\n",
    "        self.firstName = firstName\n",
    "        self.lastName = lastName\n",
    "\n",
    "# define the Student class\n",
    "class Student(________):\n",
    "    # Fill in the Blanks\n",
    "    def ________(________, ________, ________, ___, ________):\n",
    "        s______().__init__(firstName, lastName)\n",
    "        ____.___ = id\n",
    "        ____.___ = scores\n",
    "        \n",
    "    # define the calculate function\n",
    "    def calculate(________):\n",
    "        average = ________(___.____) / len(___._____)\n",
    "        if ________:\n",
    "            return 'A'\n",
    "        elif ________:\n",
    "            return 'B'\n",
    "        elif ________:\n",
    "            return 'C'\n",
    "        elif ________:\n",
    "            return 'D'\n",
    "        else:\n",
    "            return 'F'\n"
   ]
  },
  {
   "cell_type": "code",
   "execution_count": null,
   "metadata": {},
   "outputs": [],
   "source": [
    "# Your code goes here\n",
    "# Create a Student object\n",
    "student = _________(\"_____\", \"______\", __, [80, 50, 90, 75, 85])\n",
    "\n",
    "# Get the calculated grade\n",
    "grade = _______._______()\n",
    "\n",
    "# Output the result\n",
    "description = \"Name: %s %s \\nStudent ID: %d \\nYou got a %s.\" % (_______._______, _______._______, _______.__, _______)\n",
    "print(__________)"
   ]
  },
  {
   "cell_type": "markdown",
   "metadata": {},
   "source": [
    "**Output Format:** <br> <br>\n",
    "Name: Gary Jackson <br>\n",
    "Student ID: 7 <br>\n",
    "You got a C. <br>"
   ]
  },
  {
   "cell_type": "markdown",
   "metadata": {},
   "source": [
    "[How To Submit Your Exercises](https://www.youtube.com/watch?v=GCd4auHwZZY)"
   ]
  }
 ],
 "metadata": {
  "kernelspec": {
   "display_name": "Python 3 (ipykernel)",
   "language": "python",
   "name": "python3"
  },
  "language_info": {
   "codemirror_mode": {
    "name": "ipython",
    "version": 3
   },
   "file_extension": ".py",
   "mimetype": "text/x-python",
   "name": "python",
   "nbconvert_exporter": "python",
   "pygments_lexer": "ipython3",
   "version": "3.10.9"
  }
 },
 "nbformat": 4,
 "nbformat_minor": 4
}
